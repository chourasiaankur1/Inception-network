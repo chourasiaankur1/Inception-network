{
  "nbformat": 4,
  "nbformat_minor": 0,
  "metadata": {
    "colab": {
      "name": "Untitled0.ipynb",
      "provenance": []
    },
    "kernelspec": {
      "name": "python3",
      "display_name": "Python 3"
    }
  },
  "cells": [
    {
      "cell_type": "markdown",
      "metadata": {
        "id": "AE-0_9rW9HIf",
        "colab_type": "text"
      },
      "source": [
        "# **INCEPTION**\n",
        "\n"
      ]
    },
    {
      "cell_type": "markdown",
      "metadata": {
        "id": "tT5FCHz4xjWP",
        "colab_type": "text"
      },
      "source": [
        "From the name “GoogLeNet”, we’ve already known that it is from Google.          \n",
        "And “GoogLeNet” also contains the word “LeNet” for paying tribute to Prof. Yan  LeCun’s LeNet.                                                                  \n",
        "This is a 2015 CVPR paper with about 9000 citations when I was writing this story. (Sik-Ho Tsang @ Medium)"
      ]
    },
    {
      "cell_type": "markdown",
      "metadata": {
        "id": "kxb-eo_UyAXY",
        "colab_type": "text"
      },
      "source": [
        "It is also called Inception v1 as there are v2, v3 and v4 later on."
      ]
    },
    {
      "cell_type": "markdown",
      "metadata": {
        "id": "khFtfMdWyAHc",
        "colab_type": "text"
      },
      "source": [
        "The network architecture in this paper is quite different from VGGNet, ZFNet, and AlexNet. It contains 1×1 Convolution at the middle of the network. And global average pooling is used at the end of the network instead of using fully connected layers. These two techniques are from another paper “Network In Network” (NIN). Another technique, called inception module, is to have different sizes/types of convolutions for the same input and stacking all the outputs."
      ]
    },
    {
      "cell_type": "markdown",
      "metadata": {
        "id": "9CdVt2klyUDp",
        "colab_type": "text"
      },
      "source": [
        "#**1. The 1×1 Convolution**\n",
        "The 1×1 convolution is introduced by NIN.1×1 convolution is used with ReLU.     Thus, originally, NIN uses it for introducing more non-linearity to increase the representational power of the network since authors in NIN believe data is in non-linearity form. In GoogLeNet, 1×1 convolution is used as a dimension reduction module to reduce the computation. By reducing the computation bottleneck, depth and width can be increased.\n",
        "I pick a simple example to illustrate this. Suppose we need to perform 5×5 convolution without the use of 1×1 convolution as below:"
      ]
    },
    {
      "cell_type": "markdown",
      "metadata": {
        "id": "Wqkb5x3Syo3C",
        "colab_type": "text"
      },
      "source": [
        "![Without the Use of 1×1 Convolution](https://miro.medium.com/max/528/1*s6_8m_0EpwrzZPunRGgFCQ.png)\n",
        "\n",
        "**Without the Use of 1×1 Convolution**\n",
        "\n",
        "\n",
        "\n",
        "\n",
        "\n",
        "\n",
        "\n",
        "\n",
        "\n",
        "\n",
        "\n"
      ]
    },
    {
      "cell_type": "markdown",
      "metadata": {
        "id": "IqVm1_4XzNOY",
        "colab_type": "text"
      },
      "source": [
        "**Number of operations = (14×14×48)×(5×5×480) = 112.9M**"
      ]
    },
    {
      "cell_type": "markdown",
      "metadata": {
        "id": "ewIqoW9izWak",
        "colab_type": "text"
      },
      "source": [
        "**With the use of 1×1 convolution:**"
      ]
    },
    {
      "cell_type": "markdown",
      "metadata": {
        "id": "E7_PARvCzcVK",
        "colab_type": "text"
      },
      "source": [
        "![With the Use of 1×1 Convolution](https://miro.medium.com/max/854/1*SJDJyBGM__wRX9wJYIKv8w.png)\n",
        "\n",
        "**With the Use of 1×1 Convolution**"
      ]
    },
    {
      "cell_type": "markdown",
      "metadata": {
        "id": "xHO9BwgNz_X2",
        "colab_type": "text"
      },
      "source": [
        "**Number of operations for 1×1 = (14×14×16)×(1×1×480) = 1.5M**                      \n",
        "**Number of operations for 5×5 = (14×14×48)×(5×5×16) = 3.8M**                     \n",
        "**Total number of operations = 1.5M + 3.8M = 5.3M**                              \n",
        "**which is much much smaller than 112.9M !!!!!!!!!!!!!!!**                          "
      ]
    },
    {
      "cell_type": "markdown",
      "metadata": {
        "id": "u-hBwc3o0Xap",
        "colab_type": "text"
      },
      "source": [
        "Indeed, the above example is the calculation of 5×5 conv at inception (4a).     \n",
        "(We may think that, when dimension is reduced, actually we are working on the mapping from high dimension to low dimension in a non-linearity way.            In contrast, for PCA, it performs linear dimension reduction.)                                                                                               "
      ]
    },
    {
      "cell_type": "markdown",
      "metadata": {
        "id": "39q_OJq51ZMn",
        "colab_type": "text"
      },
      "source": [
        "**Thus, inception module can be built without increasing the number of operations largely compared the one without 1×1 convolution!**"
      ]
    },
    {
      "cell_type": "markdown",
      "metadata": {
        "id": "ZUKJ7zi91lwM",
        "colab_type": "text"
      },
      "source": [
        "**1×1 convolution can help to reduce model size which can also somehow help to reduce the overfitting problem!!**"
      ]
    },
    {
      "cell_type": "markdown",
      "metadata": {
        "id": "qipbXfNj1sXV",
        "colab_type": "text"
      },
      "source": [
        "#**2. Inception Module**\n",
        "The inception module (naive version, without 1×1 convolution) is as below:"
      ]
    },
    {
      "cell_type": "markdown",
      "metadata": {
        "id": "ESuuojZY14xL",
        "colab_type": "text"
      },
      "source": [
        "![Inception Module (Without 1×1 Convolution)](https://miro.medium.com/max/686/1*m1wn5P5BFZydFgVd3RiZNw.png)\n",
        "\n",
        "**Inception Module (Without 1×1 Convolution)**"
      ]
    },
    {
      "cell_type": "markdown",
      "metadata": {
        "id": "WknAsA2n2GxF",
        "colab_type": "text"
      },
      "source": [
        "Previously, such as AlexNet, and VGGNet, conv size is fixed for each layer.     \n",
        "                                                                                \n",
        "Now, 1×1 conv, 3×3 conv, 5×5 conv, and 3×3 max pooling are done altogether for the previous input, and stack together again at output. When image’s coming in, different sizes of convolutions as well as max pooling are tried. Then different kinds of features are extracted.                                      \n",
        "After that, all feature maps at different paths are concatenated together as the input of the next module.                                                   \n",
        "However, without the 1×1 convolution as above, we can imagine how large the number of operation is!"
      ]
    },
    {
      "cell_type": "markdown",
      "metadata": {
        "id": "NV1oOCkU37_5",
        "colab_type": "text"
      },
      "source": [
        "![Inception Module (With 1×1 Convolution)](https://miro.medium.com/max/693/1*sezFsYW1MyM9YOMa1q909A.png)\n",
        "\n",
        "**Inception Module (With 1×1 Convolution)**"
      ]
    },
    {
      "cell_type": "markdown",
      "metadata": {
        "id": "exKZ6Xvw4Ko2",
        "colab_type": "text"
      },
      "source": [
        "Thus, 1×1 convolution is inserted into the inception module for dimension reduction!\n"
      ]
    },
    {
      "cell_type": "markdown",
      "metadata": {
        "id": "FdG7XDeM5Jcf",
        "colab_type": "text"
      },
      "source": [
        "#**3. Global Average Pooling**"
      ]
    },
    {
      "cell_type": "markdown",
      "metadata": {
        "id": "Y_3Ht8wh5W0g",
        "colab_type": "text"
      },
      "source": [
        "![Fully Connected Layer VS Global Average Pooling](https://miro.medium.com/max/943/1*0-wMHcASLDFzx9YBRCZXHg.png)                                               \n",
        "**Fully Connected Layer VS Global Average Pooling**"
      ]
    },
    {
      "cell_type": "markdown",
      "metadata": {
        "id": "kBxIlEQt5lOI",
        "colab_type": "text"
      },
      "source": [
        "Previously, fully connected (FC) layers are used at the end of network, such as in AlexNet. All inputs are connected to each output."
      ]
    },
    {
      "cell_type": "markdown",
      "metadata": {
        "id": "lzUnH6h95pxn",
        "colab_type": "text"
      },
      "source": [
        "**Number of weights (connections) above = 7×7×1024×1024 = 51.3M**"
      ]
    },
    {
      "cell_type": "markdown",
      "metadata": {
        "id": "Aj58O-Gq5wQ2",
        "colab_type": "text"
      },
      "source": [
        "**In GoogLeNet, global average pooling is used nearly at the end of network by averaging each feature map from 7×7 to 1×1, as in the figure above.**"
      ]
    },
    {
      "cell_type": "markdown",
      "metadata": {
        "id": "JMkdLcxL51dM",
        "colab_type": "text"
      },
      "source": [
        "**Number of weights = 0**"
      ]
    },
    {
      "cell_type": "markdown",
      "metadata": {
        "id": "OwVk3O9p56B2",
        "colab_type": "text"
      },
      "source": [
        "And authors found that a move from FC layers to average pooling improved the top-1 accuracy by about 0.6%."
      ]
    },
    {
      "cell_type": "markdown",
      "metadata": {
        "id": "5JfQ3Anl59Ch",
        "colab_type": "text"
      },
      "source": [
        "This is the idea from NIN [6] which can be less prone to overfitting."
      ]
    },
    {
      "cell_type": "markdown",
      "metadata": {
        "id": "NUNvWzjS6Bra",
        "colab_type": "text"
      },
      "source": [
        "#**4. Overall Architecture**\n",
        "After knowing the basic units as described above, we can talk about the overall network architecture."
      ]
    },
    {
      "cell_type": "markdown",
      "metadata": {
        "id": "9hIHnLGG6HWM",
        "colab_type": "text"
      },
      "source": [
        "![GoogLeNet Network (From Left to Right)](https://miro.medium.com/max/3235/1*ZFPOSAted10TPd3hBQU8iQ.png)\n",
        "**GoogLeNet Network (From Left to Right)**"
      ]
    },
    {
      "cell_type": "markdown",
      "metadata": {
        "id": "eFiSasoc6Pkf",
        "colab_type": "text"
      },
      "source": [
        "**There are 22 layers in total!**"
      ]
    },
    {
      "cell_type": "markdown",
      "metadata": {
        "id": "fb9dDZx56U7t",
        "colab_type": "text"
      },
      "source": [
        "It is already a very deep model compared with previous AlexNet, ZFNet and VGGNet. (But not so deep compared with ResNet invented afterwards.) And we can see that there are numerous inception modules connected together to go deeper. (There are some intermediate softmax branches at the middle, we will describe about them in the next section.)"
      ]
    },
    {
      "cell_type": "markdown",
      "metadata": {
        "id": "Ik-6RHao6YDe",
        "colab_type": "text"
      },
      "source": [
        "Below is the details about the parameters if each layer. We actually can extend the example of 1×1 convolution to calculate the number of operations by ourselves. :)\n"
      ]
    },
    {
      "cell_type": "markdown",
      "metadata": {
        "id": "lA1yCHXp6bbM",
        "colab_type": "text"
      },
      "source": [
        "![Details about Parameters of Each Layer in GoogLeNet Network (From Top to Bottom)](https://miro.medium.com/max/1448/1*lRN3h9a_qJdT6NIy0VOu3Q.png)\n",
        "**Details about Parameters of Each Layer in GoogLeNet Network (From Top to Bottom)**"
      ]
    },
    {
      "cell_type": "markdown",
      "metadata": {
        "id": "2xenpsuf6pY_",
        "colab_type": "text"
      },
      "source": [
        "#**5. Auxiliary Classifiers for Training**\n",
        "As we can see there are some intermediate softmax branches at the middle, they are used for training only. These branches are auxiliary classifiers which consist of:"
      ]
    },
    {
      "cell_type": "markdown",
      "metadata": {
        "id": "jdO9LeHA6zRC",
        "colab_type": "text"
      },
      "source": [
        "5×5 Average Pooling (Stride 3)                                                  \n",
        "1×1 Conv (128 filters)                                                          \n",
        "1024 FC                                                                         \n",
        "1000 FC                                                                         \n",
        "Softmax                                                                         \n",
        "The loss is added to the total loss, with weight 0.3."
      ]
    },
    {
      "cell_type": "markdown",
      "metadata": {
        "id": "OsOO2NDJ68V8",
        "colab_type": "text"
      },
      "source": [
        "**Authors claim it can be used for combating gradient vanishing problem, also providing regularization.**                                                     \n",
        "And it is NOT used in testing or inference time."
      ]
    },
    {
      "cell_type": "markdown",
      "metadata": {
        "id": "AQaTJsx27CaN",
        "colab_type": "text"
      },
      "source": [
        "#**6. Testing Details**\n",
        "7 GoogLeNet are used for ensemble prediction. This is already a kind of boosting approach from LeNet, AlexNet, ZFNet and VGGNet."
      ]
    },
    {
      "cell_type": "markdown",
      "metadata": {
        "id": "ZSfG0zRV7Gs3",
        "colab_type": "text"
      },
      "source": [
        "Multi-scale testing is used just like VGGNet, with shorter dimension of 256, 288, 320, 352. (4 scales)"
      ]
    },
    {
      "cell_type": "markdown",
      "metadata": {
        "id": "IjGXrBZt7JE0",
        "colab_type": "text"
      },
      "source": [
        "Multi-crop testing is used, same idea but a bit different from and more complicated than AlexNet."
      ]
    },
    {
      "cell_type": "markdown",
      "metadata": {
        "id": "Zw_hHNLd7NZp",
        "colab_type": "text"
      },
      "source": [
        "First, for each scale, it takes left, center and right, or top, middle and bottom squares (3 squares). Then, for each square, 4 corners and center as well as the resized square (6 crops) are cropped as well as their corresponding flips (2 versions) are generated."
      ]
    },
    {
      "cell_type": "markdown",
      "metadata": {
        "id": "k1DFCSul7QcN",
        "colab_type": "text"
      },
      "source": [
        "**The total is 4 scales×3 squares×6 crops×2 versions=144 crops/image**"
      ]
    },
    {
      "cell_type": "markdown",
      "metadata": {
        "id": "XeJtjKg77UqS",
        "colab_type": "text"
      },
      "source": [
        "Softmax probabilities are averaged over all crops."
      ]
    },
    {
      "cell_type": "markdown",
      "metadata": {
        "id": "GKsOymX37aBp",
        "colab_type": "text"
      },
      "source": [
        "![image.png](data:image/png;base64,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)                                                                                                                                                                          "
      ]
    },
    {
      "cell_type": "markdown",
      "metadata": {
        "id": "kzaGGNER8Oeg",
        "colab_type": "text"
      },
      "source": [
        "**With 7 models + 144 crops, the top-5 error is 6.67%.**"
      ]
    },
    {
      "cell_type": "markdown",
      "metadata": {
        "id": "Qqzx3VCN8pkM",
        "colab_type": "text"
      },
      "source": [
        "Compared with 1 model + 1 crop, there are large reduction from 10.07%."
      ]
    },
    {
      "cell_type": "markdown",
      "metadata": {
        "id": "iQsnvBTD8sjm",
        "colab_type": "text"
      },
      "source": [
        "From this, we can observe that, besides the network design, the other stuffs like ensemble methods, multi-scale and multi-crop approaches are also essential to reduce the error rate!!!"
      ]
    },
    {
      "cell_type": "markdown",
      "metadata": {
        "id": "4-mlspvN8vDs",
        "colab_type": "text"
      },
      "source": [
        "And these techniques actually are not totally new in this paper!"
      ]
    },
    {
      "cell_type": "markdown",
      "metadata": {
        "id": "4P8bLEBA8xpN",
        "colab_type": "text"
      },
      "source": [
        "![alt text](https://miro.medium.com/max/791/1*4L02Gx6OJirydhtygS-geg.png)       \n",
        "**Comparison with State-of-the-art Approaches**"
      ]
    },
    {
      "cell_type": "markdown",
      "metadata": {
        "id": "SV60elN48-X3",
        "colab_type": "text"
      },
      "source": [
        "Finally, GoogLeNet outperforms other previous deep learning networks, and won in ILSVRC 2014."
      ]
    }
  ]
}